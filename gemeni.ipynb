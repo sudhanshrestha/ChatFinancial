{
 "cells": [
  {
   "cell_type": "code",
   "execution_count": 2,
   "metadata": {},
   "outputs": [],
   "source": [
    "from dotenv import load_dotenv\n",
    "import os\n",
    "\n",
    "# loading the gemeni api key\n",
    "load_dotenv('apikey.env')\n",
    "\n",
    "# Retrieve the API key\n",
    "api_key = os.getenv('API_KEY')\n",
    "\n"
   ]
  },
  {
   "cell_type": "code",
   "execution_count": 4,
   "metadata": {},
   "outputs": [],
   "source": [
    "import google.generativeai as genai\n",
    "import os\n",
    "\n",
    "genai.configure(api_key=os.environ['api_key'])"
   ]
  },
  {
   "cell_type": "code",
   "execution_count": 5,
   "metadata": {},
   "outputs": [
    {
     "name": "stdout",
     "output_type": "stream",
     "text": [
      "The dusty attic was a world of forgotten treasures, a haven for cobwebs and childhood memories. Lily, a girl with eyes the color of summer sky, sifted through forgotten toys and dusty trunks, her heart filled with a thrilling sense of adventure. She was searching for something, anything, to make her feel less lonely since her best friend, Max, had moved away. \n",
      "\n",
      "Suddenly, her hand brushed against something soft and worn. It was a leather backpack, small and unassuming, with a worn leather strap and an intricate silver clasp. As she pulled it free from the cobwebs, a flash of light erupted from the clasp, momentarily blinding her. When her vision cleared, she saw the clasp was glowing faintly, and a whisper of cool air seemed to emanate from the bag.\n",
      "\n",
      "Lily, captivated, pulled open the backpack. Inside, it wasn't empty, but overflowing with things she’d only dreamed of. A shimmering, turquoise scarf, a book bound in emerald leather, a silver flute that hummed softly in her hand, and a worn map that seemed to pulse with a faint light.\n",
      "\n",
      "Her heart pounded. This wasn't just any backpack. This was a magic backpack, a portal to adventure. She slipped on the scarf, its silky texture sending shivers down her spine, and placed the flute to her lips. A melody spilled forth, sweet and haunting, like a siren's call, echoing through the silent attic.\n",
      "\n",
      "That night, Lily, armed with the backpack and its treasures, took the map and walked out into the world. It led her to a hidden forest, teeming with mythical creatures and whispering ancient secrets. She met talking animals, mischievous fairies, and a wise old owl who told her about the magic within the backpack. He explained it was a gateway to forgotten stories, a conduit for imagination. \n",
      "\n",
      "With each adventure, Lily's loneliness began to melt away. She learned to play the flute, which could soothe wild animals and even make flowers bloom. The book, she discovered, contained ancient spells and forgotten lore. She could use it to heal the sick and speak to the spirits of the wind. The map, she realized, was a guide not just to places but to moments, to memories she thought were lost. \n",
      "\n",
      "Lily wasn't alone anymore. The magic backpack had filled her life with stories, with friends, with wonder. And with each adventure, she discovered a new piece of herself, a piece that had been waiting all along to be unleashed. The backpack wasn't just a bag of tricks; it was a vessel for her own imagination, a reminder that the greatest adventures lie within us all.\n",
      "\n",
      "Years later, Lily, now a woman, still carried the backpack, though now it was worn and the silver clasp had faded. But the magic remained. It had taught her to embrace the unknown, to seek adventure, and to never let her inner child grow old. And that was the true magic of the backpack, a magic that stayed with her, forever reminding her of the extraordinary world that lay hidden within the ordinary. \n",
      "\n"
     ]
    }
   ],
   "source": [
    "model = genai.GenerativeModel(\"gemini-1.5-flash\")\n",
    "response = model.generate_content(\"Write a story about a magic backpack.\")\n",
    "print(response.text)"
   ]
  },
  {
   "cell_type": "code",
   "execution_count": null,
   "metadata": {},
   "outputs": [],
   "source": []
  }
 ],
 "metadata": {
  "kernelspec": {
   "display_name": "venv",
   "language": "python",
   "name": "python3"
  },
  "language_info": {
   "codemirror_mode": {
    "name": "ipython",
    "version": 3
   },
   "file_extension": ".py",
   "mimetype": "text/x-python",
   "name": "python",
   "nbconvert_exporter": "python",
   "pygments_lexer": "ipython3",
   "version": "3.10.0"
  }
 },
 "nbformat": 4,
 "nbformat_minor": 2
}
