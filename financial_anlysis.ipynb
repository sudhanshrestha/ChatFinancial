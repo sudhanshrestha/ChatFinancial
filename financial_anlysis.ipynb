{
 "cells": [
  {
   "cell_type": "code",
   "execution_count": 5,
   "metadata": {},
   "outputs": [],
   "source": [
    "import pandas as pd\n",
    "import pandas as pd\n",
    "import plotly.express as px\n",
    "import pandas as pd\n",
    "from sklearn.model_selection import train_test_split\n",
    "from sklearn.linear_model import LinearRegression\n",
    "from sklearn.metrics import mean_squared_error\n",
    "from sklearn.preprocessing import OneHotEncoder\n",
    "from sklearn.compose import ColumnTransformer\n",
    "\n",
    "\n",
    "df_income = pd.read_excel(\"./new_data/2024_exp.xlsx\", sheet_name=\"Income\", skiprows=1)\n",
    "df_expenses = pd.read_excel(\"./new_data/2024_exp.xlsx\", sheet_name=\"Expenses\",skiprows=1)"
   ]
  },
  {
   "cell_type": "code",
   "execution_count": 6,
   "metadata": {},
   "outputs": [
    {
     "data": {
      "text/html": [
       "<div>\n",
       "<style scoped>\n",
       "    .dataframe tbody tr th:only-of-type {\n",
       "        vertical-align: middle;\n",
       "    }\n",
       "\n",
       "    .dataframe tbody tr th {\n",
       "        vertical-align: top;\n",
       "    }\n",
       "\n",
       "    .dataframe thead th {\n",
       "        text-align: right;\n",
       "    }\n",
       "</style>\n",
       "<table border=\"1\" class=\"dataframe\">\n",
       "  <thead>\n",
       "    <tr style=\"text-align: right;\">\n",
       "      <th></th>\n",
       "      <th>Date and time</th>\n",
       "      <th>Category</th>\n",
       "      <th>Account</th>\n",
       "      <th>Amount in default currency</th>\n",
       "      <th>Default currency</th>\n",
       "      <th>Amount in account currency</th>\n",
       "      <th>Account currency</th>\n",
       "      <th>Transaction amount in transaction currency</th>\n",
       "      <th>Transaction currency</th>\n",
       "      <th>Tags</th>\n",
       "      <th>Comment</th>\n",
       "    </tr>\n",
       "  </thead>\n",
       "  <tbody>\n",
       "    <tr>\n",
       "      <th>0</th>\n",
       "      <td>2024-09-29</td>\n",
       "      <td>Cafe</td>\n",
       "      <td>Main</td>\n",
       "      <td>23.71</td>\n",
       "      <td>CAD</td>\n",
       "      <td>23.71</td>\n",
       "      <td>CAD</td>\n",
       "      <td>NaN</td>\n",
       "      <td>NaN</td>\n",
       "      <td>NaN</td>\n",
       "      <td>NaN</td>\n",
       "    </tr>\n",
       "    <tr>\n",
       "      <th>1</th>\n",
       "      <td>2024-09-25</td>\n",
       "      <td>Groceries</td>\n",
       "      <td>Main</td>\n",
       "      <td>69.55</td>\n",
       "      <td>CAD</td>\n",
       "      <td>69.55</td>\n",
       "      <td>CAD</td>\n",
       "      <td>NaN</td>\n",
       "      <td>NaN</td>\n",
       "      <td>NaN</td>\n",
       "      <td>NaN</td>\n",
       "    </tr>\n",
       "    <tr>\n",
       "      <th>2</th>\n",
       "      <td>2024-09-24</td>\n",
       "      <td>Cafe</td>\n",
       "      <td>Main</td>\n",
       "      <td>34.28</td>\n",
       "      <td>CAD</td>\n",
       "      <td>34.28</td>\n",
       "      <td>CAD</td>\n",
       "      <td>NaN</td>\n",
       "      <td>NaN</td>\n",
       "      <td>NaN</td>\n",
       "      <td>NaN</td>\n",
       "    </tr>\n",
       "    <tr>\n",
       "      <th>3</th>\n",
       "      <td>2024-09-23</td>\n",
       "      <td>Cafe</td>\n",
       "      <td>Main</td>\n",
       "      <td>23.96</td>\n",
       "      <td>CAD</td>\n",
       "      <td>23.96</td>\n",
       "      <td>CAD</td>\n",
       "      <td>NaN</td>\n",
       "      <td>NaN</td>\n",
       "      <td>NaN</td>\n",
       "      <td>NaN</td>\n",
       "    </tr>\n",
       "    <tr>\n",
       "      <th>4</th>\n",
       "      <td>2024-09-22</td>\n",
       "      <td>Cafe</td>\n",
       "      <td>Main</td>\n",
       "      <td>20.03</td>\n",
       "      <td>CAD</td>\n",
       "      <td>20.03</td>\n",
       "      <td>CAD</td>\n",
       "      <td>NaN</td>\n",
       "      <td>NaN</td>\n",
       "      <td>NaN</td>\n",
       "      <td>NaN</td>\n",
       "    </tr>\n",
       "    <tr>\n",
       "      <th>...</th>\n",
       "      <td>...</td>\n",
       "      <td>...</td>\n",
       "      <td>...</td>\n",
       "      <td>...</td>\n",
       "      <td>...</td>\n",
       "      <td>...</td>\n",
       "      <td>...</td>\n",
       "      <td>...</td>\n",
       "      <td>...</td>\n",
       "      <td>...</td>\n",
       "      <td>...</td>\n",
       "    </tr>\n",
       "    <tr>\n",
       "      <th>242</th>\n",
       "      <td>2024-01-06</td>\n",
       "      <td>Groceries</td>\n",
       "      <td>Main</td>\n",
       "      <td>23.71</td>\n",
       "      <td>CAD</td>\n",
       "      <td>23.71</td>\n",
       "      <td>CAD</td>\n",
       "      <td>NaN</td>\n",
       "      <td>NaN</td>\n",
       "      <td>NaN</td>\n",
       "      <td>NaN</td>\n",
       "    </tr>\n",
       "    <tr>\n",
       "      <th>243</th>\n",
       "      <td>2024-01-05</td>\n",
       "      <td>Cafe</td>\n",
       "      <td>Main</td>\n",
       "      <td>29.07</td>\n",
       "      <td>CAD</td>\n",
       "      <td>29.07</td>\n",
       "      <td>CAD</td>\n",
       "      <td>NaN</td>\n",
       "      <td>NaN</td>\n",
       "      <td>NaN</td>\n",
       "      <td>Beers for friends</td>\n",
       "    </tr>\n",
       "    <tr>\n",
       "      <th>244</th>\n",
       "      <td>2024-01-02</td>\n",
       "      <td>Haircut</td>\n",
       "      <td>Main</td>\n",
       "      <td>20.34</td>\n",
       "      <td>CAD</td>\n",
       "      <td>20.34</td>\n",
       "      <td>CAD</td>\n",
       "      <td>NaN</td>\n",
       "      <td>NaN</td>\n",
       "      <td>NaN</td>\n",
       "      <td>NaN</td>\n",
       "    </tr>\n",
       "    <tr>\n",
       "      <th>245</th>\n",
       "      <td>2024-01-01</td>\n",
       "      <td>Cafe</td>\n",
       "      <td>Main</td>\n",
       "      <td>16.94</td>\n",
       "      <td>CAD</td>\n",
       "      <td>16.94</td>\n",
       "      <td>CAD</td>\n",
       "      <td>NaN</td>\n",
       "      <td>NaN</td>\n",
       "      <td>NaN</td>\n",
       "      <td>NaN</td>\n",
       "    </tr>\n",
       "    <tr>\n",
       "      <th>246</th>\n",
       "      <td>2024-01-01</td>\n",
       "      <td>Home</td>\n",
       "      <td>Main</td>\n",
       "      <td>650.00</td>\n",
       "      <td>CAD</td>\n",
       "      <td>650.00</td>\n",
       "      <td>CAD</td>\n",
       "      <td>NaN</td>\n",
       "      <td>NaN</td>\n",
       "      <td>NaN</td>\n",
       "      <td>NaN</td>\n",
       "    </tr>\n",
       "  </tbody>\n",
       "</table>\n",
       "<p>247 rows × 11 columns</p>\n",
       "</div>"
      ],
      "text/plain": [
       "    Date and time   Category Account  Amount in default currency  \\\n",
       "0      2024-09-29       Cafe    Main                       23.71   \n",
       "1      2024-09-25  Groceries    Main                       69.55   \n",
       "2      2024-09-24       Cafe    Main                       34.28   \n",
       "3      2024-09-23       Cafe    Main                       23.96   \n",
       "4      2024-09-22       Cafe    Main                       20.03   \n",
       "..            ...        ...     ...                         ...   \n",
       "242    2024-01-06  Groceries    Main                       23.71   \n",
       "243    2024-01-05       Cafe    Main                       29.07   \n",
       "244    2024-01-02    Haircut    Main                       20.34   \n",
       "245    2024-01-01       Cafe    Main                       16.94   \n",
       "246    2024-01-01       Home    Main                      650.00   \n",
       "\n",
       "    Default currency  Amount in account currency Account currency  \\\n",
       "0                CAD                       23.71              CAD   \n",
       "1                CAD                       69.55              CAD   \n",
       "2                CAD                       34.28              CAD   \n",
       "3                CAD                       23.96              CAD   \n",
       "4                CAD                       20.03              CAD   \n",
       "..               ...                         ...              ...   \n",
       "242              CAD                       23.71              CAD   \n",
       "243              CAD                       29.07              CAD   \n",
       "244              CAD                       20.34              CAD   \n",
       "245              CAD                       16.94              CAD   \n",
       "246              CAD                      650.00              CAD   \n",
       "\n",
       "     Transaction amount in transaction currency  Transaction currency  Tags  \\\n",
       "0                                           NaN                   NaN   NaN   \n",
       "1                                           NaN                   NaN   NaN   \n",
       "2                                           NaN                   NaN   NaN   \n",
       "3                                           NaN                   NaN   NaN   \n",
       "4                                           NaN                   NaN   NaN   \n",
       "..                                          ...                   ...   ...   \n",
       "242                                         NaN                   NaN   NaN   \n",
       "243                                         NaN                   NaN   NaN   \n",
       "244                                         NaN                   NaN   NaN   \n",
       "245                                         NaN                   NaN   NaN   \n",
       "246                                         NaN                   NaN   NaN   \n",
       "\n",
       "                Comment  \n",
       "0                   NaN  \n",
       "1                   NaN  \n",
       "2                   NaN  \n",
       "3                   NaN  \n",
       "4                   NaN  \n",
       "..                  ...  \n",
       "242                 NaN  \n",
       "243  Beers for friends   \n",
       "244                 NaN  \n",
       "245                 NaN  \n",
       "246                 NaN  \n",
       "\n",
       "[247 rows x 11 columns]"
      ]
     },
     "execution_count": 6,
     "metadata": {},
     "output_type": "execute_result"
    }
   ],
   "source": [
    "df_expenses"
   ]
  },
  {
   "cell_type": "code",
   "execution_count": 7,
   "metadata": {},
   "outputs": [],
   "source": [
    "# Droping some columns that were unnecessary..\n",
    "col_to_drop = [\n",
    "    \"Transaction amount in transaction currency\",\n",
    "    \"Transaction currency\",\n",
    "    \"Amount in account currency\",\n",
    "    \"Account currency\"\n",
    "]\n",
    "df_income.drop(columns=col_to_drop, inplace=True)\n",
    "df_expenses.drop(columns=col_to_drop, inplace=True)\n",
    "\n",
    "\n",
    "# adding type to each df \n",
    "df_income[\"Type\"] = \"Income\"\n",
    "df_expenses[\"Type\"] = \"Expenses\""
   ]
  },
  {
   "cell_type": "code",
   "execution_count": 9,
   "metadata": {},
   "outputs": [
    {
     "data": {
      "text/html": [
       "<div>\n",
       "<style scoped>\n",
       "    .dataframe tbody tr th:only-of-type {\n",
       "        vertical-align: middle;\n",
       "    }\n",
       "\n",
       "    .dataframe tbody tr th {\n",
       "        vertical-align: top;\n",
       "    }\n",
       "\n",
       "    .dataframe thead th {\n",
       "        text-align: right;\n",
       "    }\n",
       "</style>\n",
       "<table border=\"1\" class=\"dataframe\">\n",
       "  <thead>\n",
       "    <tr style=\"text-align: right;\">\n",
       "      <th></th>\n",
       "      <th>Date</th>\n",
       "      <th>Category</th>\n",
       "      <th>Account</th>\n",
       "      <th>Amount</th>\n",
       "      <th>Currency</th>\n",
       "      <th>Tags</th>\n",
       "      <th>Comment</th>\n",
       "      <th>Type</th>\n",
       "    </tr>\n",
       "  </thead>\n",
       "  <tbody>\n",
       "    <tr>\n",
       "      <th>0</th>\n",
       "      <td>2024-09-27</td>\n",
       "      <td>Paycheck</td>\n",
       "      <td>Main</td>\n",
       "      <td>149.00</td>\n",
       "      <td>CAD</td>\n",
       "      <td>NaN</td>\n",
       "      <td>NaN</td>\n",
       "      <td>Income</td>\n",
       "    </tr>\n",
       "    <tr>\n",
       "      <th>1</th>\n",
       "      <td>2024-09-26</td>\n",
       "      <td>Balancing</td>\n",
       "      <td>Main</td>\n",
       "      <td>8.00</td>\n",
       "      <td>CAD</td>\n",
       "      <td>NaN</td>\n",
       "      <td>NaN</td>\n",
       "      <td>Income</td>\n",
       "    </tr>\n",
       "    <tr>\n",
       "      <th>2</th>\n",
       "      <td>2024-08-30</td>\n",
       "      <td>Paycheck</td>\n",
       "      <td>Main</td>\n",
       "      <td>300.95</td>\n",
       "      <td>CAD</td>\n",
       "      <td>NaN</td>\n",
       "      <td>NaN</td>\n",
       "      <td>Income</td>\n",
       "    </tr>\n",
       "    <tr>\n",
       "      <th>3</th>\n",
       "      <td>2024-08-29</td>\n",
       "      <td>Balancing</td>\n",
       "      <td>Main</td>\n",
       "      <td>1.00</td>\n",
       "      <td>CAD</td>\n",
       "      <td>NaN</td>\n",
       "      <td>NaN</td>\n",
       "      <td>Income</td>\n",
       "    </tr>\n",
       "    <tr>\n",
       "      <th>4</th>\n",
       "      <td>2024-08-26</td>\n",
       "      <td>Cashback</td>\n",
       "      <td>Main</td>\n",
       "      <td>26.00</td>\n",
       "      <td>CAD</td>\n",
       "      <td>NaN</td>\n",
       "      <td>NaN</td>\n",
       "      <td>Income</td>\n",
       "    </tr>\n",
       "    <tr>\n",
       "      <th>...</th>\n",
       "      <td>...</td>\n",
       "      <td>...</td>\n",
       "      <td>...</td>\n",
       "      <td>...</td>\n",
       "      <td>...</td>\n",
       "      <td>...</td>\n",
       "      <td>...</td>\n",
       "      <td>...</td>\n",
       "    </tr>\n",
       "    <tr>\n",
       "      <th>279</th>\n",
       "      <td>2024-01-06</td>\n",
       "      <td>Groceries</td>\n",
       "      <td>Main</td>\n",
       "      <td>23.71</td>\n",
       "      <td>CAD</td>\n",
       "      <td>NaN</td>\n",
       "      <td>NaN</td>\n",
       "      <td>Expenses</td>\n",
       "    </tr>\n",
       "    <tr>\n",
       "      <th>280</th>\n",
       "      <td>2024-01-05</td>\n",
       "      <td>Cafe</td>\n",
       "      <td>Main</td>\n",
       "      <td>29.07</td>\n",
       "      <td>CAD</td>\n",
       "      <td>NaN</td>\n",
       "      <td>Beers for friends</td>\n",
       "      <td>Expenses</td>\n",
       "    </tr>\n",
       "    <tr>\n",
       "      <th>281</th>\n",
       "      <td>2024-01-02</td>\n",
       "      <td>Haircut</td>\n",
       "      <td>Main</td>\n",
       "      <td>20.34</td>\n",
       "      <td>CAD</td>\n",
       "      <td>NaN</td>\n",
       "      <td>NaN</td>\n",
       "      <td>Expenses</td>\n",
       "    </tr>\n",
       "    <tr>\n",
       "      <th>282</th>\n",
       "      <td>2024-01-01</td>\n",
       "      <td>Cafe</td>\n",
       "      <td>Main</td>\n",
       "      <td>16.94</td>\n",
       "      <td>CAD</td>\n",
       "      <td>NaN</td>\n",
       "      <td>NaN</td>\n",
       "      <td>Expenses</td>\n",
       "    </tr>\n",
       "    <tr>\n",
       "      <th>283</th>\n",
       "      <td>2024-01-01</td>\n",
       "      <td>Home</td>\n",
       "      <td>Main</td>\n",
       "      <td>650.00</td>\n",
       "      <td>CAD</td>\n",
       "      <td>NaN</td>\n",
       "      <td>NaN</td>\n",
       "      <td>Expenses</td>\n",
       "    </tr>\n",
       "  </tbody>\n",
       "</table>\n",
       "<p>284 rows × 8 columns</p>\n",
       "</div>"
      ],
      "text/plain": [
       "          Date   Category Account  Amount Currency  Tags             Comment  \\\n",
       "0   2024-09-27   Paycheck    Main  149.00      CAD   NaN                 NaN   \n",
       "1   2024-09-26  Balancing    Main    8.00      CAD   NaN                 NaN   \n",
       "2   2024-08-30   Paycheck    Main  300.95      CAD   NaN                 NaN   \n",
       "3   2024-08-29  Balancing    Main    1.00      CAD   NaN                 NaN   \n",
       "4   2024-08-26   Cashback    Main   26.00      CAD   NaN                 NaN   \n",
       "..         ...        ...     ...     ...      ...   ...                 ...   \n",
       "279 2024-01-06  Groceries    Main   23.71      CAD   NaN                 NaN   \n",
       "280 2024-01-05       Cafe    Main   29.07      CAD   NaN  Beers for friends    \n",
       "281 2024-01-02    Haircut    Main   20.34      CAD   NaN                 NaN   \n",
       "282 2024-01-01       Cafe    Main   16.94      CAD   NaN                 NaN   \n",
       "283 2024-01-01       Home    Main  650.00      CAD   NaN                 NaN   \n",
       "\n",
       "         Type  \n",
       "0      Income  \n",
       "1      Income  \n",
       "2      Income  \n",
       "3      Income  \n",
       "4      Income  \n",
       "..        ...  \n",
       "279  Expenses  \n",
       "280  Expenses  \n",
       "281  Expenses  \n",
       "282  Expenses  \n",
       "283  Expenses  \n",
       "\n",
       "[284 rows x 8 columns]"
      ]
     },
     "execution_count": 9,
     "metadata": {},
     "output_type": "execute_result"
    }
   ],
   "source": [
    "# Joining these two dataframes of expenses and income into one \n",
    "df = pd.concat([df_income, df_expenses], ignore_index=True)\n",
    "# Renaming some columns for better understanding and prediciton\n",
    "df = df.rename(columns={\n",
    "    'Date and time': 'Date', \n",
    "    'Amount in default currency': 'Amount',\n",
    "    'Default currency' : 'Currency'\n",
    "    })\n",
    "df"
   ]
  },
  {
   "cell_type": "code",
   "execution_count": 10,
   "metadata": {},
   "outputs": [
    {
     "data": {
      "application/vnd.plotly.v1+json": {
       "config": {
        "plotlyServerURL": "https://plot.ly"
       },
       "data": [
        {
         "hovertemplate": "Type=Income<br>Date=%{x}<br>Amount=%{y}<extra></extra>",
         "legendgroup": "Income",
         "line": {
          "color": "#636efa",
          "dash": "solid"
         },
         "marker": {
          "symbol": "circle"
         },
         "mode": "lines",
         "name": "Income",
         "orientation": "v",
         "showlegend": true,
         "type": "scatter",
         "x": [
          "2024-09-27T00:00:00",
          "2024-09-26T00:00:00",
          "2024-08-30T00:00:00",
          "2024-08-29T00:00:00",
          "2024-08-26T00:00:00",
          "2024-08-16T00:00:00",
          "2024-08-16T00:00:00",
          "2024-08-02T00:00:00",
          "2024-08-01T00:00:00",
          "2024-07-19T00:00:00",
          "2024-07-19T00:00:00",
          "2024-07-18T00:00:00",
          "2024-07-13T00:00:00",
          "2024-07-10T00:00:00",
          "2024-07-05T00:00:00",
          "2024-07-05T00:00:00",
          "2024-06-25T00:00:00",
          "2024-06-21T00:00:00",
          "2024-06-08T00:00:00",
          "2024-05-15T00:00:00",
          "2024-05-11T00:00:00",
          "2024-05-10T00:00:00",
          "2024-05-10T00:00:00",
          "2024-05-03T00:00:00",
          "2024-04-30T00:00:00",
          "2024-04-29T00:00:00",
          "2024-04-26T00:00:00",
          "2024-04-12T00:00:00",
          "2024-04-04T00:00:00",
          "2024-03-31T00:00:00",
          "2024-03-28T00:00:00",
          "2024-03-15T00:00:00",
          "2024-03-03T00:00:00",
          "2024-03-01T00:00:00",
          "2024-02-16T00:00:00",
          "2024-02-02T00:00:00",
          "2024-01-16T00:00:00"
         ],
         "xaxis": "x",
         "y": [
          149,
          8,
          300.95,
          1,
          26,
          67.5,
          266.49,
          282.17,
          58,
          74,
          348.34,
          3000,
          140,
          67.5,
          235.17,
          85,
          1,
          242.99,
          145.88,
          506,
          28.31,
          717.6,
          399,
          325,
          2145,
          3000,
          1427.19,
          1427.19,
          15,
          16,
          1427.19,
          1427.19,
          6,
          1427.19,
          1427.19,
          1427.19,
          100
         ],
         "yaxis": "y"
        },
        {
         "hovertemplate": "Type=Expenses<br>Date=%{x}<br>Amount=%{y}<extra></extra>",
         "legendgroup": "Expenses",
         "line": {
          "color": "#EF553B",
          "dash": "solid"
         },
         "marker": {
          "symbol": "circle"
         },
         "mode": "lines",
         "name": "Expenses",
         "orientation": "v",
         "showlegend": true,
         "type": "scatter",
         "x": [
          "2024-09-29T00:00:00",
          "2024-09-25T00:00:00",
          "2024-09-24T00:00:00",
          "2024-09-23T00:00:00",
          "2024-09-22T00:00:00",
          "2024-09-21T00:00:00",
          "2024-09-21T00:00:00",
          "2024-09-18T00:00:00",
          "2024-09-17T00:00:00",
          "2024-09-17T00:00:00",
          "2024-09-14T00:00:00",
          "2024-09-14T00:00:00",
          "2024-09-12T00:00:00",
          "2024-09-11T00:00:00",
          "2024-09-11T00:00:00",
          "2024-09-09T00:00:00",
          "2024-09-09T00:00:00",
          "2024-09-08T00:00:00",
          "2024-09-07T00:00:00",
          "2024-09-05T00:00:00",
          "2024-09-05T00:00:00",
          "2024-09-05T00:00:00",
          "2024-09-04T00:00:00",
          "2024-09-03T00:00:00",
          "2024-09-01T00:00:00",
          "2024-08-31T00:00:00",
          "2024-08-29T00:00:00",
          "2024-08-28T00:00:00",
          "2024-08-27T00:00:00",
          "2024-08-27T00:00:00",
          "2024-08-27T00:00:00",
          "2024-08-26T00:00:00",
          "2024-08-25T00:00:00",
          "2024-08-25T00:00:00",
          "2024-08-24T00:00:00",
          "2024-08-23T00:00:00",
          "2024-08-22T00:00:00",
          "2024-08-21T00:00:00",
          "2024-08-20T00:00:00",
          "2024-08-18T00:00:00",
          "2024-08-18T00:00:00",
          "2024-08-18T00:00:00",
          "2024-08-17T00:00:00",
          "2024-08-16T00:00:00",
          "2024-08-14T00:00:00",
          "2024-08-13T00:00:00",
          "2024-08-08T00:00:00",
          "2024-08-06T00:00:00",
          "2024-08-03T00:00:00",
          "2024-08-03T00:00:00",
          "2024-08-02T00:00:00",
          "2024-08-01T00:00:00",
          "2024-07-30T00:00:00",
          "2024-07-27T00:00:00",
          "2024-07-27T00:00:00",
          "2024-07-26T00:00:00",
          "2024-07-26T00:00:00",
          "2024-07-25T00:00:00",
          "2024-07-24T00:00:00",
          "2024-07-23T00:00:00",
          "2024-07-21T00:00:00",
          "2024-07-19T00:00:00",
          "2024-07-19T00:00:00",
          "2024-07-18T00:00:00",
          "2024-07-17T00:00:00",
          "2024-07-16T00:00:00",
          "2024-07-16T00:00:00",
          "2024-07-15T00:00:00",
          "2024-07-14T00:00:00",
          "2024-07-13T00:00:00",
          "2024-07-11T00:00:00",
          "2024-07-10T00:00:00",
          "2024-07-09T00:00:00",
          "2024-07-08T00:00:00",
          "2024-07-07T00:00:00",
          "2024-07-05T00:00:00",
          "2024-07-03T00:00:00",
          "2024-07-02T00:00:00",
          "2024-07-02T00:00:00",
          "2024-06-30T00:00:00",
          "2024-06-27T00:00:00",
          "2024-06-27T00:00:00",
          "2024-06-25T00:00:00",
          "2024-06-24T00:00:00",
          "2024-06-24T00:00:00",
          "2024-06-23T00:00:00",
          "2024-06-22T00:00:00",
          "2024-06-21T00:00:00",
          "2024-06-20T00:00:00",
          "2024-06-19T00:00:00",
          "2024-06-18T00:00:00",
          "2024-06-18T00:00:00",
          "2024-06-17T00:00:00",
          "2024-06-15T00:00:00",
          "2024-06-14T00:00:00",
          "2024-06-12T00:00:00",
          "2024-06-12T00:00:00",
          "2024-06-10T00:00:00",
          "2024-06-10T00:00:00",
          "2024-06-08T00:00:00",
          "2024-06-08T00:00:00",
          "2024-06-04T00:00:00",
          "2024-06-04T00:00:00",
          "2024-06-03T00:00:00",
          "2024-06-02T00:00:00",
          "2024-06-01T00:00:00",
          "2024-05-31T00:00:00",
          "2024-05-31T00:00:00",
          "2024-05-29T00:00:00",
          "2024-05-28T00:00:00",
          "2024-05-27T00:00:00",
          "2024-05-23T00:00:00",
          "2024-05-22T00:00:00",
          "2024-05-19T00:00:00",
          "2024-05-19T00:00:00",
          "2024-05-18T00:00:00",
          "2024-05-15T00:00:00",
          "2024-05-13T00:00:00",
          "2024-05-12T00:00:00",
          "2024-05-12T00:00:00",
          "2024-05-11T00:00:00",
          "2024-05-11T00:00:00",
          "2024-05-11T00:00:00",
          "2024-05-10T00:00:00",
          "2024-05-09T00:00:00",
          "2024-05-09T00:00:00",
          "2024-05-07T00:00:00",
          "2024-05-06T00:00:00",
          "2024-05-05T00:00:00",
          "2024-05-05T00:00:00",
          "2024-05-04T00:00:00",
          "2024-05-03T00:00:00",
          "2024-05-03T00:00:00",
          "2024-05-02T00:00:00",
          "2024-05-02T00:00:00",
          "2024-05-01T00:00:00",
          "2024-05-01T00:00:00",
          "2024-05-01T00:00:00",
          "2024-04-30T00:00:00",
          "2024-04-30T00:00:00",
          "2024-04-29T00:00:00",
          "2024-04-28T00:00:00",
          "2024-04-26T00:00:00",
          "2024-04-25T00:00:00",
          "2024-04-25T00:00:00",
          "2024-04-24T00:00:00",
          "2024-04-23T00:00:00",
          "2024-04-23T00:00:00",
          "2024-04-23T00:00:00",
          "2024-04-22T00:00:00",
          "2024-04-19T00:00:00",
          "2024-04-19T00:00:00",
          "2024-04-19T00:00:00",
          "2024-04-19T00:00:00",
          "2024-04-18T00:00:00",
          "2024-04-17T00:00:00",
          "2024-04-16T00:00:00",
          "2024-04-14T00:00:00",
          "2024-04-13T00:00:00",
          "2024-04-12T00:00:00",
          "2024-04-12T00:00:00",
          "2024-04-11T00:00:00",
          "2024-04-10T00:00:00",
          "2024-04-06T00:00:00",
          "2024-04-05T00:00:00",
          "2024-04-05T00:00:00",
          "2024-04-02T00:00:00",
          "2024-04-02T00:00:00",
          "2024-03-31T00:00:00",
          "2024-03-30T00:00:00",
          "2024-03-29T00:00:00",
          "2024-03-28T00:00:00",
          "2024-03-27T00:00:00",
          "2024-03-26T00:00:00",
          "2024-03-26T00:00:00",
          "2024-03-23T00:00:00",
          "2024-03-23T00:00:00",
          "2024-03-22T00:00:00",
          "2024-03-22T00:00:00",
          "2024-03-22T00:00:00",
          "2024-03-19T00:00:00",
          "2024-03-18T00:00:00",
          "2024-03-17T00:00:00",
          "2024-03-17T00:00:00",
          "2024-03-16T00:00:00",
          "2024-03-15T00:00:00",
          "2024-03-11T00:00:00",
          "2024-03-10T00:00:00",
          "2024-03-09T00:00:00",
          "2024-03-08T00:00:00",
          "2024-03-08T00:00:00",
          "2024-03-08T00:00:00",
          "2024-03-07T00:00:00",
          "2024-03-05T00:00:00",
          "2024-03-03T00:00:00",
          "2024-03-02T00:00:00",
          "2024-03-02T00:00:00",
          "2024-03-01T00:00:00",
          "2024-03-01T00:00:00",
          "2024-02-29T00:00:00",
          "2024-02-28T00:00:00",
          "2024-02-28T00:00:00",
          "2024-02-27T00:00:00",
          "2024-02-25T00:00:00",
          "2024-02-24T00:00:00",
          "2024-02-23T00:00:00",
          "2024-02-23T00:00:00",
          "2024-02-18T00:00:00",
          "2024-02-18T00:00:00",
          "2024-02-17T00:00:00",
          "2024-02-17T00:00:00",
          "2024-02-17T00:00:00",
          "2024-02-16T00:00:00",
          "2024-02-12T00:00:00",
          "2024-02-10T00:00:00",
          "2024-02-08T00:00:00",
          "2024-02-08T00:00:00",
          "2024-02-07T00:00:00",
          "2024-02-06T00:00:00",
          "2024-02-04T00:00:00",
          "2024-02-03T00:00:00",
          "2024-02-03T00:00:00",
          "2024-02-02T00:00:00",
          "2024-02-02T00:00:00",
          "2024-02-01T00:00:00",
          "2024-01-29T00:00:00",
          "2024-01-26T00:00:00",
          "2024-01-26T00:00:00",
          "2024-01-25T00:00:00",
          "2024-01-25T00:00:00",
          "2024-01-24T00:00:00",
          "2024-01-20T00:00:00",
          "2024-01-19T00:00:00",
          "2024-01-18T00:00:00",
          "2024-01-18T00:00:00",
          "2024-01-16T00:00:00",
          "2024-01-13T00:00:00",
          "2024-01-12T00:00:00",
          "2024-01-12T00:00:00",
          "2024-01-11T00:00:00",
          "2024-01-10T00:00:00",
          "2024-01-09T00:00:00",
          "2024-01-06T00:00:00",
          "2024-01-05T00:00:00",
          "2024-01-02T00:00:00",
          "2024-01-01T00:00:00",
          "2024-01-01T00:00:00"
         ],
         "xaxis": "x",
         "y": [
          23.71,
          69.55,
          34.28,
          23.96,
          20.03,
          3.15,
          14.11,
          32.77,
          0.83,
          45.04,
          37.09,
          73.04,
          34.28,
          24.58,
          514,
          24.55,
          25.45,
          38.81,
          39.52,
          32.75,
          2,
          52.2,
          34.29,
          9.32,
          650,
          36.73,
          88.5,
          1.41,
          259.28,
          169.5,
          24.85,
          24.86,
          52.93,
          6.22,
          29.78,
          28.4,
          39.3,
          38.97,
          48.82,
          36.73,
          57.91,
          32.77,
          20.13,
          51.34,
          47.23,
          56.86,
          37.09,
          61.71,
          67.48,
          37.21,
          32.37,
          650,
          23.71,
          48.94,
          29.06,
          21.7,
          76.37,
          31.98,
          39.52,
          41.7,
          31.98,
          36.88,
          7.9,
          32.77,
          57.53,
          41.7,
          10.78,
          31.42,
          41.7,
          30.61,
          34.03,
          34.35,
          31.98,
          25.45,
          32.13,
          48.58,
          21.37,
          650,
          32.62,
          34.03,
          72.31,
          99.11,
          31.98,
          23.71,
          53.09,
          37.21,
          37.77,
          30.52,
          38.21,
          14.09,
          36.05,
          32.77,
          37.21,
          23.71,
          31.92,
          46.33,
          16.94,
          12,
          31.08,
          23.71,
          40.5,
          2,
          47.66,
          8979.27,
          650,
          40.23,
          24.57,
          34.38,
          31.64,
          34.38,
          23.71,
          33.88,
          15.86,
          63.7,
          25.2,
          32.77,
          37.21,
          49.9,
          67.32,
          31.08,
          135.6,
          12.41,
          23.79,
          32.32,
          26.43,
          23.71,
          7.9,
          31.08,
          26.83,
          31.08,
          31.08,
          27.77,
          37.84,
          13.56,
          31.08,
          306,
          29.63,
          650,
          3.25,
          35.34,
          20.35,
          37.85,
          47.92,
          31.71,
          24.75,
          23.71,
          28.46,
          650,
          30.32,
          37.85,
          30.32,
          40.65,
          12.42,
          4.99,
          32.77,
          35.33,
          31.62,
          34.71,
          37.85,
          23.71,
          20.81,
          4.99,
          38.13,
          52.03,
          74.56,
          31.09,
          51.97,
          83.94,
          92,
          23.71,
          23.71,
          23.71,
          23.93,
          4.52,
          4.52,
          31.62,
          20.13,
          23.37,
          135.19,
          26.83,
          16.94,
          32.77,
          24.17,
          16.56,
          24.68,
          14,
          43.05,
          16.56,
          18.18,
          16.94,
          34.12,
          19.15,
          25,
          18.07,
          30.25,
          16.56,
          16.56,
          23.71,
          650,
          17.91,
          92,
          4.52,
          11.29,
          16.56,
          19.06,
          33.89,
          0.19,
          87.97,
          32.77,
          79.3,
          23.71,
          3.11,
          23.71,
          5.89,
          45.89,
          47.42,
          5.89,
          23.71,
          5,
          57.46,
          1,
          23.71,
          16.94,
          650,
          5,
          92,
          2.82,
          4.52,
          19.78,
          27.65,
          4.52,
          23.71,
          16.94,
          53.93,
          26.31,
          4.52,
          20.32,
          17,
          6.78,
          10.17,
          4.52,
          67.7,
          23.71,
          29.07,
          20.34,
          16.94,
          650
         ],
         "yaxis": "y"
        }
       ],
       "layout": {
        "height": 700,
        "legend": {
         "title": {
          "text": "Type"
         },
         "tracegroupgap": 0
        },
        "template": {
         "data": {
          "bar": [
           {
            "error_x": {
             "color": "#2a3f5f"
            },
            "error_y": {
             "color": "#2a3f5f"
            },
            "marker": {
             "line": {
              "color": "#E5ECF6",
              "width": 0.5
             },
             "pattern": {
              "fillmode": "overlay",
              "size": 10,
              "solidity": 0.2
             }
            },
            "type": "bar"
           }
          ],
          "barpolar": [
           {
            "marker": {
             "line": {
              "color": "#E5ECF6",
              "width": 0.5
             },
             "pattern": {
              "fillmode": "overlay",
              "size": 10,
              "solidity": 0.2
             }
            },
            "type": "barpolar"
           }
          ],
          "carpet": [
           {
            "aaxis": {
             "endlinecolor": "#2a3f5f",
             "gridcolor": "white",
             "linecolor": "white",
             "minorgridcolor": "white",
             "startlinecolor": "#2a3f5f"
            },
            "baxis": {
             "endlinecolor": "#2a3f5f",
             "gridcolor": "white",
             "linecolor": "white",
             "minorgridcolor": "white",
             "startlinecolor": "#2a3f5f"
            },
            "type": "carpet"
           }
          ],
          "choropleth": [
           {
            "colorbar": {
             "outlinewidth": 0,
             "ticks": ""
            },
            "type": "choropleth"
           }
          ],
          "contour": [
           {
            "colorbar": {
             "outlinewidth": 0,
             "ticks": ""
            },
            "colorscale": [
             [
              0,
              "#0d0887"
             ],
             [
              0.1111111111111111,
              "#46039f"
             ],
             [
              0.2222222222222222,
              "#7201a8"
             ],
             [
              0.3333333333333333,
              "#9c179e"
             ],
             [
              0.4444444444444444,
              "#bd3786"
             ],
             [
              0.5555555555555556,
              "#d8576b"
             ],
             [
              0.6666666666666666,
              "#ed7953"
             ],
             [
              0.7777777777777778,
              "#fb9f3a"
             ],
             [
              0.8888888888888888,
              "#fdca26"
             ],
             [
              1,
              "#f0f921"
             ]
            ],
            "type": "contour"
           }
          ],
          "contourcarpet": [
           {
            "colorbar": {
             "outlinewidth": 0,
             "ticks": ""
            },
            "type": "contourcarpet"
           }
          ],
          "heatmap": [
           {
            "colorbar": {
             "outlinewidth": 0,
             "ticks": ""
            },
            "colorscale": [
             [
              0,
              "#0d0887"
             ],
             [
              0.1111111111111111,
              "#46039f"
             ],
             [
              0.2222222222222222,
              "#7201a8"
             ],
             [
              0.3333333333333333,
              "#9c179e"
             ],
             [
              0.4444444444444444,
              "#bd3786"
             ],
             [
              0.5555555555555556,
              "#d8576b"
             ],
             [
              0.6666666666666666,
              "#ed7953"
             ],
             [
              0.7777777777777778,
              "#fb9f3a"
             ],
             [
              0.8888888888888888,
              "#fdca26"
             ],
             [
              1,
              "#f0f921"
             ]
            ],
            "type": "heatmap"
           }
          ],
          "heatmapgl": [
           {
            "colorbar": {
             "outlinewidth": 0,
             "ticks": ""
            },
            "colorscale": [
             [
              0,
              "#0d0887"
             ],
             [
              0.1111111111111111,
              "#46039f"
             ],
             [
              0.2222222222222222,
              "#7201a8"
             ],
             [
              0.3333333333333333,
              "#9c179e"
             ],
             [
              0.4444444444444444,
              "#bd3786"
             ],
             [
              0.5555555555555556,
              "#d8576b"
             ],
             [
              0.6666666666666666,
              "#ed7953"
             ],
             [
              0.7777777777777778,
              "#fb9f3a"
             ],
             [
              0.8888888888888888,
              "#fdca26"
             ],
             [
              1,
              "#f0f921"
             ]
            ],
            "type": "heatmapgl"
           }
          ],
          "histogram": [
           {
            "marker": {
             "pattern": {
              "fillmode": "overlay",
              "size": 10,
              "solidity": 0.2
             }
            },
            "type": "histogram"
           }
          ],
          "histogram2d": [
           {
            "colorbar": {
             "outlinewidth": 0,
             "ticks": ""
            },
            "colorscale": [
             [
              0,
              "#0d0887"
             ],
             [
              0.1111111111111111,
              "#46039f"
             ],
             [
              0.2222222222222222,
              "#7201a8"
             ],
             [
              0.3333333333333333,
              "#9c179e"
             ],
             [
              0.4444444444444444,
              "#bd3786"
             ],
             [
              0.5555555555555556,
              "#d8576b"
             ],
             [
              0.6666666666666666,
              "#ed7953"
             ],
             [
              0.7777777777777778,
              "#fb9f3a"
             ],
             [
              0.8888888888888888,
              "#fdca26"
             ],
             [
              1,
              "#f0f921"
             ]
            ],
            "type": "histogram2d"
           }
          ],
          "histogram2dcontour": [
           {
            "colorbar": {
             "outlinewidth": 0,
             "ticks": ""
            },
            "colorscale": [
             [
              0,
              "#0d0887"
             ],
             [
              0.1111111111111111,
              "#46039f"
             ],
             [
              0.2222222222222222,
              "#7201a8"
             ],
             [
              0.3333333333333333,
              "#9c179e"
             ],
             [
              0.4444444444444444,
              "#bd3786"
             ],
             [
              0.5555555555555556,
              "#d8576b"
             ],
             [
              0.6666666666666666,
              "#ed7953"
             ],
             [
              0.7777777777777778,
              "#fb9f3a"
             ],
             [
              0.8888888888888888,
              "#fdca26"
             ],
             [
              1,
              "#f0f921"
             ]
            ],
            "type": "histogram2dcontour"
           }
          ],
          "mesh3d": [
           {
            "colorbar": {
             "outlinewidth": 0,
             "ticks": ""
            },
            "type": "mesh3d"
           }
          ],
          "parcoords": [
           {
            "line": {
             "colorbar": {
              "outlinewidth": 0,
              "ticks": ""
             }
            },
            "type": "parcoords"
           }
          ],
          "pie": [
           {
            "automargin": true,
            "type": "pie"
           }
          ],
          "scatter": [
           {
            "fillpattern": {
             "fillmode": "overlay",
             "size": 10,
             "solidity": 0.2
            },
            "type": "scatter"
           }
          ],
          "scatter3d": [
           {
            "line": {
             "colorbar": {
              "outlinewidth": 0,
              "ticks": ""
             }
            },
            "marker": {
             "colorbar": {
              "outlinewidth": 0,
              "ticks": ""
             }
            },
            "type": "scatter3d"
           }
          ],
          "scattercarpet": [
           {
            "marker": {
             "colorbar": {
              "outlinewidth": 0,
              "ticks": ""
             }
            },
            "type": "scattercarpet"
           }
          ],
          "scattergeo": [
           {
            "marker": {
             "colorbar": {
              "outlinewidth": 0,
              "ticks": ""
             }
            },
            "type": "scattergeo"
           }
          ],
          "scattergl": [
           {
            "marker": {
             "colorbar": {
              "outlinewidth": 0,
              "ticks": ""
             }
            },
            "type": "scattergl"
           }
          ],
          "scattermapbox": [
           {
            "marker": {
             "colorbar": {
              "outlinewidth": 0,
              "ticks": ""
             }
            },
            "type": "scattermapbox"
           }
          ],
          "scatterpolar": [
           {
            "marker": {
             "colorbar": {
              "outlinewidth": 0,
              "ticks": ""
             }
            },
            "type": "scatterpolar"
           }
          ],
          "scatterpolargl": [
           {
            "marker": {
             "colorbar": {
              "outlinewidth": 0,
              "ticks": ""
             }
            },
            "type": "scatterpolargl"
           }
          ],
          "scatterternary": [
           {
            "marker": {
             "colorbar": {
              "outlinewidth": 0,
              "ticks": ""
             }
            },
            "type": "scatterternary"
           }
          ],
          "surface": [
           {
            "colorbar": {
             "outlinewidth": 0,
             "ticks": ""
            },
            "colorscale": [
             [
              0,
              "#0d0887"
             ],
             [
              0.1111111111111111,
              "#46039f"
             ],
             [
              0.2222222222222222,
              "#7201a8"
             ],
             [
              0.3333333333333333,
              "#9c179e"
             ],
             [
              0.4444444444444444,
              "#bd3786"
             ],
             [
              0.5555555555555556,
              "#d8576b"
             ],
             [
              0.6666666666666666,
              "#ed7953"
             ],
             [
              0.7777777777777778,
              "#fb9f3a"
             ],
             [
              0.8888888888888888,
              "#fdca26"
             ],
             [
              1,
              "#f0f921"
             ]
            ],
            "type": "surface"
           }
          ],
          "table": [
           {
            "cells": {
             "fill": {
              "color": "#EBF0F8"
             },
             "line": {
              "color": "white"
             }
            },
            "header": {
             "fill": {
              "color": "#C8D4E3"
             },
             "line": {
              "color": "white"
             }
            },
            "type": "table"
           }
          ]
         },
         "layout": {
          "annotationdefaults": {
           "arrowcolor": "#2a3f5f",
           "arrowhead": 0,
           "arrowwidth": 1
          },
          "autotypenumbers": "strict",
          "coloraxis": {
           "colorbar": {
            "outlinewidth": 0,
            "ticks": ""
           }
          },
          "colorscale": {
           "diverging": [
            [
             0,
             "#8e0152"
            ],
            [
             0.1,
             "#c51b7d"
            ],
            [
             0.2,
             "#de77ae"
            ],
            [
             0.3,
             "#f1b6da"
            ],
            [
             0.4,
             "#fde0ef"
            ],
            [
             0.5,
             "#f7f7f7"
            ],
            [
             0.6,
             "#e6f5d0"
            ],
            [
             0.7,
             "#b8e186"
            ],
            [
             0.8,
             "#7fbc41"
            ],
            [
             0.9,
             "#4d9221"
            ],
            [
             1,
             "#276419"
            ]
           ],
           "sequential": [
            [
             0,
             "#0d0887"
            ],
            [
             0.1111111111111111,
             "#46039f"
            ],
            [
             0.2222222222222222,
             "#7201a8"
            ],
            [
             0.3333333333333333,
             "#9c179e"
            ],
            [
             0.4444444444444444,
             "#bd3786"
            ],
            [
             0.5555555555555556,
             "#d8576b"
            ],
            [
             0.6666666666666666,
             "#ed7953"
            ],
            [
             0.7777777777777778,
             "#fb9f3a"
            ],
            [
             0.8888888888888888,
             "#fdca26"
            ],
            [
             1,
             "#f0f921"
            ]
           ],
           "sequentialminus": [
            [
             0,
             "#0d0887"
            ],
            [
             0.1111111111111111,
             "#46039f"
            ],
            [
             0.2222222222222222,
             "#7201a8"
            ],
            [
             0.3333333333333333,
             "#9c179e"
            ],
            [
             0.4444444444444444,
             "#bd3786"
            ],
            [
             0.5555555555555556,
             "#d8576b"
            ],
            [
             0.6666666666666666,
             "#ed7953"
            ],
            [
             0.7777777777777778,
             "#fb9f3a"
            ],
            [
             0.8888888888888888,
             "#fdca26"
            ],
            [
             1,
             "#f0f921"
            ]
           ]
          },
          "colorway": [
           "#636efa",
           "#EF553B",
           "#00cc96",
           "#ab63fa",
           "#FFA15A",
           "#19d3f3",
           "#FF6692",
           "#B6E880",
           "#FF97FF",
           "#FECB52"
          ],
          "font": {
           "color": "#2a3f5f"
          },
          "geo": {
           "bgcolor": "white",
           "lakecolor": "white",
           "landcolor": "#E5ECF6",
           "showlakes": true,
           "showland": true,
           "subunitcolor": "white"
          },
          "hoverlabel": {
           "align": "left"
          },
          "hovermode": "closest",
          "mapbox": {
           "style": "light"
          },
          "paper_bgcolor": "white",
          "plot_bgcolor": "#E5ECF6",
          "polar": {
           "angularaxis": {
            "gridcolor": "white",
            "linecolor": "white",
            "ticks": ""
           },
           "bgcolor": "#E5ECF6",
           "radialaxis": {
            "gridcolor": "white",
            "linecolor": "white",
            "ticks": ""
           }
          },
          "scene": {
           "xaxis": {
            "backgroundcolor": "#E5ECF6",
            "gridcolor": "white",
            "gridwidth": 2,
            "linecolor": "white",
            "showbackground": true,
            "ticks": "",
            "zerolinecolor": "white"
           },
           "yaxis": {
            "backgroundcolor": "#E5ECF6",
            "gridcolor": "white",
            "gridwidth": 2,
            "linecolor": "white",
            "showbackground": true,
            "ticks": "",
            "zerolinecolor": "white"
           },
           "zaxis": {
            "backgroundcolor": "#E5ECF6",
            "gridcolor": "white",
            "gridwidth": 2,
            "linecolor": "white",
            "showbackground": true,
            "ticks": "",
            "zerolinecolor": "white"
           }
          },
          "shapedefaults": {
           "line": {
            "color": "#2a3f5f"
           }
          },
          "ternary": {
           "aaxis": {
            "gridcolor": "white",
            "linecolor": "white",
            "ticks": ""
           },
           "baxis": {
            "gridcolor": "white",
            "linecolor": "white",
            "ticks": ""
           },
           "bgcolor": "#E5ECF6",
           "caxis": {
            "gridcolor": "white",
            "linecolor": "white",
            "ticks": ""
           }
          },
          "title": {
           "x": 0.05
          },
          "xaxis": {
           "automargin": true,
           "gridcolor": "white",
           "linecolor": "white",
           "ticks": "",
           "title": {
            "standoff": 15
           },
           "zerolinecolor": "white",
           "zerolinewidth": 2
          },
          "yaxis": {
           "automargin": true,
           "gridcolor": "white",
           "linecolor": "white",
           "ticks": "",
           "title": {
            "standoff": 15
           },
           "zerolinecolor": "white",
           "zerolinewidth": 2
          }
         }
        },
        "title": {
         "text": "Income and Expenses Over Time"
        },
        "width": 1080,
        "xaxis": {
         "anchor": "y",
         "domain": [
          0,
          1
         ],
         "title": {
          "text": "Date"
         }
        },
        "yaxis": {
         "anchor": "x",
         "domain": [
          0,
          1
         ],
         "title": {
          "text": "Amount"
         }
        }
       }
      }
     },
     "metadata": {},
     "output_type": "display_data"
    },
    {
     "data": {
      "application/vnd.plotly.v1+json": {
       "config": {
        "plotlyServerURL": "https://plot.ly"
       },
       "data": [
        {
         "alignmentgroup": "True",
         "bingroup": "x",
         "histfunc": "sum",
         "hovertemplate": "Category=%{x}<br>sum of Amount=%{y}<extra></extra>",
         "legendgroup": "",
         "marker": {
          "color": "#636efa",
          "pattern": {
           "shape": ""
          }
         },
         "name": "",
         "offsetgroup": "",
         "orientation": "v",
         "showlegend": false,
         "type": "histogram",
         "x": [
          "Cafe",
          "Groceries",
          "Cafe",
          "Cafe",
          "Cafe",
          "Cafe",
          "Cafe",
          "SIM",
          "Cafe",
          "Cafe",
          "Cafe",
          "Groceries",
          "Cafe",
          "Cafe",
          "Education",
          "Cafe",
          "Transportation",
          "Cafe",
          "Cafe",
          "Cafe",
          "Groceries",
          "Groceries",
          "Cafe",
          "Other",
          "Home",
          "Cafe",
          "Groceries",
          "Cafe",
          "Fashion",
          "Fashion",
          "Cafe",
          "Haircut",
          "Groceries",
          "Cafe",
          "Cafe",
          "Cafe",
          "Cafe",
          "Cafe",
          "Cafe",
          "Cafe",
          "Groceries",
          "SIM",
          "Cafe",
          "Cafe",
          "Cafe",
          "Cafe",
          "Cafe",
          "Groceries",
          "Groceries",
          "Cafe",
          "Cafe",
          "Home",
          "Cafe",
          "Groceries",
          "Cafe",
          "Cafe",
          "Cafe",
          "Cafe",
          "Cafe",
          "Cafe",
          "Cafe",
          "Cafe",
          "Cafe",
          "SIM",
          "Groceries",
          "Cafe",
          "Transportation",
          "Cafe",
          "Cafe",
          "Cafe",
          "Cafe",
          "Cafe",
          "Cafe",
          "Cafe",
          "Cafe",
          "Cafe",
          "Cafe",
          "Home",
          "Gadgets",
          "Cafe",
          "Gifts",
          "Groceries",
          "Cafe",
          "Cafe",
          "Gadgets",
          "Cafe",
          "Cafe",
          "Cafe",
          "Cafe",
          "Cafe",
          "Cafe",
          "SIM",
          "Cafe",
          "Cafe",
          "Cafe",
          "Groceries",
          "Cafe",
          "Balancing",
          "Cafe",
          "Cafe",
          "Cafe",
          "Balancing",
          "Groceries",
          "Education",
          "Home",
          "Cafe",
          "Cafe",
          "Cafe",
          "Cafe",
          "Cafe",
          "Cafe",
          "Cafe",
          "Cafe",
          "Groceries",
          "Cafe",
          "Cafe",
          "Cafe",
          "Groceries",
          "Groceries",
          "Cafe",
          "Laptop repair",
          "Cafe",
          "Cafe",
          "Cafe",
          "Cafe",
          "Cafe",
          "Cafe",
          "Cafe",
          "Other",
          "Cafe",
          "Cafe",
          "Cafe",
          "Cafe",
          "Education",
          "Cafe",
          "Transportation",
          "Cafe",
          "Home",
          "Cafe",
          "Cafe",
          "Haircut",
          "Cafe",
          "Groceries",
          "Cafe",
          "Cafe",
          "Cafe",
          "Cafe",
          "Home",
          "Cafe",
          "Cafe",
          "Cafe",
          "Cafe",
          "Cafe",
          "Cafe",
          "SIM",
          "Cafe",
          "Cafe",
          "Groceries",
          "Cafe",
          "Cafe",
          "Cafe",
          "Cafe",
          "Cafe",
          "Groceries",
          "Gifts",
          "Cafe",
          "Gifts",
          "Gifts",
          "Transportation",
          "Cafe",
          "Cafe",
          "Cafe",
          "Transportation",
          "Cafe",
          "Cafe",
          "Cafe",
          "Cafe",
          "Cafe",
          "Groceries",
          "Cafe",
          "Cafe",
          "SIM",
          "Cafe",
          "Cafe",
          "Cafe",
          "Cafe",
          "Groceries",
          "Cafe",
          "Cafe",
          "Cafe",
          "Groceries",
          "Other",
          "Other",
          "Cafe",
          "Groceries",
          "Cafe",
          "Cafe",
          "Cafe",
          "Home",
          "Cafe",
          "Transportation",
          "Cafe",
          "Cafe",
          "Cafe",
          "Cafe",
          "Gifts",
          "Cafe",
          "Groceries",
          "SIM",
          "Other",
          "Cafe",
          "Other",
          "Cafe",
          "Transportation",
          "Groceries",
          "Leisure",
          "Transportation",
          "Cafe",
          "Cafe",
          "Groceries",
          "Balancing",
          "Cafe",
          "Cafe",
          "Home",
          "Cafe",
          "Transportation",
          "Cafe",
          "Cafe",
          "Other",
          "Groceries",
          "Cafe",
          "Cafe",
          "Cafe",
          "Balancing",
          "SIM",
          "Cafe",
          "Cafe",
          "Cafe",
          "Cafe",
          "Cafe",
          "Cafe",
          "Transportation",
          "Groceries",
          "Cafe",
          "Haircut",
          "Cafe",
          "Home"
         ],
         "xaxis": "x",
         "y": [
          23.71,
          69.55,
          34.28,
          23.96,
          20.03,
          3.15,
          14.11,
          32.77,
          0.83,
          45.04,
          37.09,
          73.04,
          34.28,
          24.58,
          514,
          24.55,
          25.45,
          38.81,
          39.52,
          32.75,
          2,
          52.2,
          34.29,
          9.32,
          650,
          36.73,
          88.5,
          1.41,
          259.28,
          169.5,
          24.85,
          24.86,
          52.93,
          6.22,
          29.78,
          28.4,
          39.3,
          38.97,
          48.82,
          36.73,
          57.91,
          32.77,
          20.13,
          51.34,
          47.23,
          56.86,
          37.09,
          61.71,
          67.48,
          37.21,
          32.37,
          650,
          23.71,
          48.94,
          29.06,
          21.7,
          76.37,
          31.98,
          39.52,
          41.7,
          31.98,
          36.88,
          7.9,
          32.77,
          57.53,
          41.7,
          10.78,
          31.42,
          41.7,
          30.61,
          34.03,
          34.35,
          31.98,
          25.45,
          32.13,
          48.58,
          21.37,
          650,
          32.62,
          34.03,
          72.31,
          99.11,
          31.98,
          23.71,
          53.09,
          37.21,
          37.77,
          30.52,
          38.21,
          14.09,
          36.05,
          32.77,
          37.21,
          23.71,
          31.92,
          46.33,
          16.94,
          12,
          31.08,
          23.71,
          40.5,
          2,
          47.66,
          8979.27,
          650,
          40.23,
          24.57,
          34.38,
          31.64,
          34.38,
          23.71,
          33.88,
          15.86,
          63.7,
          25.2,
          32.77,
          37.21,
          49.9,
          67.32,
          31.08,
          135.6,
          12.41,
          23.79,
          32.32,
          26.43,
          23.71,
          7.9,
          31.08,
          26.83,
          31.08,
          31.08,
          27.77,
          37.84,
          13.56,
          31.08,
          306,
          29.63,
          650,
          3.25,
          35.34,
          20.35,
          37.85,
          47.92,
          31.71,
          24.75,
          23.71,
          28.46,
          650,
          30.32,
          37.85,
          30.32,
          40.65,
          12.42,
          4.99,
          32.77,
          35.33,
          31.62,
          34.71,
          37.85,
          23.71,
          20.81,
          4.99,
          38.13,
          52.03,
          74.56,
          31.09,
          51.97,
          83.94,
          92,
          23.71,
          23.71,
          23.71,
          23.93,
          4.52,
          4.52,
          31.62,
          20.13,
          23.37,
          135.19,
          26.83,
          16.94,
          32.77,
          24.17,
          16.56,
          24.68,
          14,
          43.05,
          16.56,
          18.18,
          16.94,
          34.12,
          19.15,
          25,
          18.07,
          30.25,
          16.56,
          16.56,
          23.71,
          650,
          17.91,
          92,
          4.52,
          11.29,
          16.56,
          19.06,
          33.89,
          0.19,
          87.97,
          32.77,
          79.3,
          23.71,
          3.11,
          23.71,
          5.89,
          45.89,
          47.42,
          5.89,
          23.71,
          5,
          57.46,
          1,
          23.71,
          16.94,
          650,
          5,
          92,
          2.82,
          4.52,
          19.78,
          27.65,
          4.52,
          23.71,
          16.94,
          53.93,
          26.31,
          4.52,
          20.32,
          17,
          6.78,
          10.17,
          4.52,
          67.7,
          23.71,
          29.07,
          20.34,
          16.94,
          650
         ],
         "yaxis": "y"
        }
       ],
       "layout": {
        "barmode": "relative",
        "height": 700,
        "legend": {
         "tracegroupgap": 0
        },
        "template": {
         "data": {
          "bar": [
           {
            "error_x": {
             "color": "#2a3f5f"
            },
            "error_y": {
             "color": "#2a3f5f"
            },
            "marker": {
             "line": {
              "color": "#E5ECF6",
              "width": 0.5
             },
             "pattern": {
              "fillmode": "overlay",
              "size": 10,
              "solidity": 0.2
             }
            },
            "type": "bar"
           }
          ],
          "barpolar": [
           {
            "marker": {
             "line": {
              "color": "#E5ECF6",
              "width": 0.5
             },
             "pattern": {
              "fillmode": "overlay",
              "size": 10,
              "solidity": 0.2
             }
            },
            "type": "barpolar"
           }
          ],
          "carpet": [
           {
            "aaxis": {
             "endlinecolor": "#2a3f5f",
             "gridcolor": "white",
             "linecolor": "white",
             "minorgridcolor": "white",
             "startlinecolor": "#2a3f5f"
            },
            "baxis": {
             "endlinecolor": "#2a3f5f",
             "gridcolor": "white",
             "linecolor": "white",
             "minorgridcolor": "white",
             "startlinecolor": "#2a3f5f"
            },
            "type": "carpet"
           }
          ],
          "choropleth": [
           {
            "colorbar": {
             "outlinewidth": 0,
             "ticks": ""
            },
            "type": "choropleth"
           }
          ],
          "contour": [
           {
            "colorbar": {
             "outlinewidth": 0,
             "ticks": ""
            },
            "colorscale": [
             [
              0,
              "#0d0887"
             ],
             [
              0.1111111111111111,
              "#46039f"
             ],
             [
              0.2222222222222222,
              "#7201a8"
             ],
             [
              0.3333333333333333,
              "#9c179e"
             ],
             [
              0.4444444444444444,
              "#bd3786"
             ],
             [
              0.5555555555555556,
              "#d8576b"
             ],
             [
              0.6666666666666666,
              "#ed7953"
             ],
             [
              0.7777777777777778,
              "#fb9f3a"
             ],
             [
              0.8888888888888888,
              "#fdca26"
             ],
             [
              1,
              "#f0f921"
             ]
            ],
            "type": "contour"
           }
          ],
          "contourcarpet": [
           {
            "colorbar": {
             "outlinewidth": 0,
             "ticks": ""
            },
            "type": "contourcarpet"
           }
          ],
          "heatmap": [
           {
            "colorbar": {
             "outlinewidth": 0,
             "ticks": ""
            },
            "colorscale": [
             [
              0,
              "#0d0887"
             ],
             [
              0.1111111111111111,
              "#46039f"
             ],
             [
              0.2222222222222222,
              "#7201a8"
             ],
             [
              0.3333333333333333,
              "#9c179e"
             ],
             [
              0.4444444444444444,
              "#bd3786"
             ],
             [
              0.5555555555555556,
              "#d8576b"
             ],
             [
              0.6666666666666666,
              "#ed7953"
             ],
             [
              0.7777777777777778,
              "#fb9f3a"
             ],
             [
              0.8888888888888888,
              "#fdca26"
             ],
             [
              1,
              "#f0f921"
             ]
            ],
            "type": "heatmap"
           }
          ],
          "heatmapgl": [
           {
            "colorbar": {
             "outlinewidth": 0,
             "ticks": ""
            },
            "colorscale": [
             [
              0,
              "#0d0887"
             ],
             [
              0.1111111111111111,
              "#46039f"
             ],
             [
              0.2222222222222222,
              "#7201a8"
             ],
             [
              0.3333333333333333,
              "#9c179e"
             ],
             [
              0.4444444444444444,
              "#bd3786"
             ],
             [
              0.5555555555555556,
              "#d8576b"
             ],
             [
              0.6666666666666666,
              "#ed7953"
             ],
             [
              0.7777777777777778,
              "#fb9f3a"
             ],
             [
              0.8888888888888888,
              "#fdca26"
             ],
             [
              1,
              "#f0f921"
             ]
            ],
            "type": "heatmapgl"
           }
          ],
          "histogram": [
           {
            "marker": {
             "pattern": {
              "fillmode": "overlay",
              "size": 10,
              "solidity": 0.2
             }
            },
            "type": "histogram"
           }
          ],
          "histogram2d": [
           {
            "colorbar": {
             "outlinewidth": 0,
             "ticks": ""
            },
            "colorscale": [
             [
              0,
              "#0d0887"
             ],
             [
              0.1111111111111111,
              "#46039f"
             ],
             [
              0.2222222222222222,
              "#7201a8"
             ],
             [
              0.3333333333333333,
              "#9c179e"
             ],
             [
              0.4444444444444444,
              "#bd3786"
             ],
             [
              0.5555555555555556,
              "#d8576b"
             ],
             [
              0.6666666666666666,
              "#ed7953"
             ],
             [
              0.7777777777777778,
              "#fb9f3a"
             ],
             [
              0.8888888888888888,
              "#fdca26"
             ],
             [
              1,
              "#f0f921"
             ]
            ],
            "type": "histogram2d"
           }
          ],
          "histogram2dcontour": [
           {
            "colorbar": {
             "outlinewidth": 0,
             "ticks": ""
            },
            "colorscale": [
             [
              0,
              "#0d0887"
             ],
             [
              0.1111111111111111,
              "#46039f"
             ],
             [
              0.2222222222222222,
              "#7201a8"
             ],
             [
              0.3333333333333333,
              "#9c179e"
             ],
             [
              0.4444444444444444,
              "#bd3786"
             ],
             [
              0.5555555555555556,
              "#d8576b"
             ],
             [
              0.6666666666666666,
              "#ed7953"
             ],
             [
              0.7777777777777778,
              "#fb9f3a"
             ],
             [
              0.8888888888888888,
              "#fdca26"
             ],
             [
              1,
              "#f0f921"
             ]
            ],
            "type": "histogram2dcontour"
           }
          ],
          "mesh3d": [
           {
            "colorbar": {
             "outlinewidth": 0,
             "ticks": ""
            },
            "type": "mesh3d"
           }
          ],
          "parcoords": [
           {
            "line": {
             "colorbar": {
              "outlinewidth": 0,
              "ticks": ""
             }
            },
            "type": "parcoords"
           }
          ],
          "pie": [
           {
            "automargin": true,
            "type": "pie"
           }
          ],
          "scatter": [
           {
            "fillpattern": {
             "fillmode": "overlay",
             "size": 10,
             "solidity": 0.2
            },
            "type": "scatter"
           }
          ],
          "scatter3d": [
           {
            "line": {
             "colorbar": {
              "outlinewidth": 0,
              "ticks": ""
             }
            },
            "marker": {
             "colorbar": {
              "outlinewidth": 0,
              "ticks": ""
             }
            },
            "type": "scatter3d"
           }
          ],
          "scattercarpet": [
           {
            "marker": {
             "colorbar": {
              "outlinewidth": 0,
              "ticks": ""
             }
            },
            "type": "scattercarpet"
           }
          ],
          "scattergeo": [
           {
            "marker": {
             "colorbar": {
              "outlinewidth": 0,
              "ticks": ""
             }
            },
            "type": "scattergeo"
           }
          ],
          "scattergl": [
           {
            "marker": {
             "colorbar": {
              "outlinewidth": 0,
              "ticks": ""
             }
            },
            "type": "scattergl"
           }
          ],
          "scattermapbox": [
           {
            "marker": {
             "colorbar": {
              "outlinewidth": 0,
              "ticks": ""
             }
            },
            "type": "scattermapbox"
           }
          ],
          "scatterpolar": [
           {
            "marker": {
             "colorbar": {
              "outlinewidth": 0,
              "ticks": ""
             }
            },
            "type": "scatterpolar"
           }
          ],
          "scatterpolargl": [
           {
            "marker": {
             "colorbar": {
              "outlinewidth": 0,
              "ticks": ""
             }
            },
            "type": "scatterpolargl"
           }
          ],
          "scatterternary": [
           {
            "marker": {
             "colorbar": {
              "outlinewidth": 0,
              "ticks": ""
             }
            },
            "type": "scatterternary"
           }
          ],
          "surface": [
           {
            "colorbar": {
             "outlinewidth": 0,
             "ticks": ""
            },
            "colorscale": [
             [
              0,
              "#0d0887"
             ],
             [
              0.1111111111111111,
              "#46039f"
             ],
             [
              0.2222222222222222,
              "#7201a8"
             ],
             [
              0.3333333333333333,
              "#9c179e"
             ],
             [
              0.4444444444444444,
              "#bd3786"
             ],
             [
              0.5555555555555556,
              "#d8576b"
             ],
             [
              0.6666666666666666,
              "#ed7953"
             ],
             [
              0.7777777777777778,
              "#fb9f3a"
             ],
             [
              0.8888888888888888,
              "#fdca26"
             ],
             [
              1,
              "#f0f921"
             ]
            ],
            "type": "surface"
           }
          ],
          "table": [
           {
            "cells": {
             "fill": {
              "color": "#EBF0F8"
             },
             "line": {
              "color": "white"
             }
            },
            "header": {
             "fill": {
              "color": "#C8D4E3"
             },
             "line": {
              "color": "white"
             }
            },
            "type": "table"
           }
          ]
         },
         "layout": {
          "annotationdefaults": {
           "arrowcolor": "#2a3f5f",
           "arrowhead": 0,
           "arrowwidth": 1
          },
          "autotypenumbers": "strict",
          "coloraxis": {
           "colorbar": {
            "outlinewidth": 0,
            "ticks": ""
           }
          },
          "colorscale": {
           "diverging": [
            [
             0,
             "#8e0152"
            ],
            [
             0.1,
             "#c51b7d"
            ],
            [
             0.2,
             "#de77ae"
            ],
            [
             0.3,
             "#f1b6da"
            ],
            [
             0.4,
             "#fde0ef"
            ],
            [
             0.5,
             "#f7f7f7"
            ],
            [
             0.6,
             "#e6f5d0"
            ],
            [
             0.7,
             "#b8e186"
            ],
            [
             0.8,
             "#7fbc41"
            ],
            [
             0.9,
             "#4d9221"
            ],
            [
             1,
             "#276419"
            ]
           ],
           "sequential": [
            [
             0,
             "#0d0887"
            ],
            [
             0.1111111111111111,
             "#46039f"
            ],
            [
             0.2222222222222222,
             "#7201a8"
            ],
            [
             0.3333333333333333,
             "#9c179e"
            ],
            [
             0.4444444444444444,
             "#bd3786"
            ],
            [
             0.5555555555555556,
             "#d8576b"
            ],
            [
             0.6666666666666666,
             "#ed7953"
            ],
            [
             0.7777777777777778,
             "#fb9f3a"
            ],
            [
             0.8888888888888888,
             "#fdca26"
            ],
            [
             1,
             "#f0f921"
            ]
           ],
           "sequentialminus": [
            [
             0,
             "#0d0887"
            ],
            [
             0.1111111111111111,
             "#46039f"
            ],
            [
             0.2222222222222222,
             "#7201a8"
            ],
            [
             0.3333333333333333,
             "#9c179e"
            ],
            [
             0.4444444444444444,
             "#bd3786"
            ],
            [
             0.5555555555555556,
             "#d8576b"
            ],
            [
             0.6666666666666666,
             "#ed7953"
            ],
            [
             0.7777777777777778,
             "#fb9f3a"
            ],
            [
             0.8888888888888888,
             "#fdca26"
            ],
            [
             1,
             "#f0f921"
            ]
           ]
          },
          "colorway": [
           "#636efa",
           "#EF553B",
           "#00cc96",
           "#ab63fa",
           "#FFA15A",
           "#19d3f3",
           "#FF6692",
           "#B6E880",
           "#FF97FF",
           "#FECB52"
          ],
          "font": {
           "color": "#2a3f5f"
          },
          "geo": {
           "bgcolor": "white",
           "lakecolor": "white",
           "landcolor": "#E5ECF6",
           "showlakes": true,
           "showland": true,
           "subunitcolor": "white"
          },
          "hoverlabel": {
           "align": "left"
          },
          "hovermode": "closest",
          "mapbox": {
           "style": "light"
          },
          "paper_bgcolor": "white",
          "plot_bgcolor": "#E5ECF6",
          "polar": {
           "angularaxis": {
            "gridcolor": "white",
            "linecolor": "white",
            "ticks": ""
           },
           "bgcolor": "#E5ECF6",
           "radialaxis": {
            "gridcolor": "white",
            "linecolor": "white",
            "ticks": ""
           }
          },
          "scene": {
           "xaxis": {
            "backgroundcolor": "#E5ECF6",
            "gridcolor": "white",
            "gridwidth": 2,
            "linecolor": "white",
            "showbackground": true,
            "ticks": "",
            "zerolinecolor": "white"
           },
           "yaxis": {
            "backgroundcolor": "#E5ECF6",
            "gridcolor": "white",
            "gridwidth": 2,
            "linecolor": "white",
            "showbackground": true,
            "ticks": "",
            "zerolinecolor": "white"
           },
           "zaxis": {
            "backgroundcolor": "#E5ECF6",
            "gridcolor": "white",
            "gridwidth": 2,
            "linecolor": "white",
            "showbackground": true,
            "ticks": "",
            "zerolinecolor": "white"
           }
          },
          "shapedefaults": {
           "line": {
            "color": "#2a3f5f"
           }
          },
          "ternary": {
           "aaxis": {
            "gridcolor": "white",
            "linecolor": "white",
            "ticks": ""
           },
           "baxis": {
            "gridcolor": "white",
            "linecolor": "white",
            "ticks": ""
           },
           "bgcolor": "#E5ECF6",
           "caxis": {
            "gridcolor": "white",
            "linecolor": "white",
            "ticks": ""
           }
          },
          "title": {
           "x": 0.05
          },
          "xaxis": {
           "automargin": true,
           "gridcolor": "white",
           "linecolor": "white",
           "ticks": "",
           "title": {
            "standoff": 15
           },
           "zerolinecolor": "white",
           "zerolinewidth": 2
          },
          "yaxis": {
           "automargin": true,
           "gridcolor": "white",
           "linecolor": "white",
           "ticks": "",
           "title": {
            "standoff": 15
           },
           "zerolinecolor": "white",
           "zerolinewidth": 2
          }
         }
        },
        "title": {
         "text": "Distribution of Expenses Across Categories"
        },
        "width": 1080,
        "xaxis": {
         "anchor": "y",
         "domain": [
          0,
          1
         ],
         "title": {
          "text": "Category"
         }
        },
        "yaxis": {
         "anchor": "x",
         "domain": [
          0,
          1
         ],
         "title": {
          "text": "sum of Amount"
         }
        }
       }
      }
     },
     "metadata": {},
     "output_type": "display_data"
    }
   ],
   "source": [
    "\n",
    "\n",
    "# 1. Data Cleaning\n",
    "# Convert 'Date' column to datetime\n",
    "df['Date'] = pd.to_datetime(df['Date'])\n",
    "\n",
    "# # Drop 'Comment' column if not relevant\n",
    "# df.drop('Comment', axis=1, inplace=True)\n",
    "\n",
    "fig = px.line(df, x='Date', y='Amount', color='Type', title='Income and Expenses Over Time')\n",
    "fig.update_layout(width=1080, height=700)  # Set width and height\n",
    "fig.show()\n",
    "\n",
    "# Plot distribution of expenses across categories\n",
    "fig = px.histogram(df[df['Type'] == 'Expenses'], x='Category', y='Amount', title='Distribution of Expenses Across Categories')\n",
    "fig.update_layout(width=1080, height=700)  # Set width and height\n",
    "fig.show()\n",
    "\n"
   ]
  },
  {
   "cell_type": "code",
   "execution_count": null,
   "metadata": {},
   "outputs": [],
   "source": []
  }
 ],
 "metadata": {
  "kernelspec": {
   "display_name": "Python 3",
   "language": "python",
   "name": "python3"
  },
  "language_info": {
   "codemirror_mode": {
    "name": "ipython",
    "version": 3
   },
   "file_extension": ".py",
   "mimetype": "text/x-python",
   "name": "python",
   "nbconvert_exporter": "python",
   "pygments_lexer": "ipython3",
   "version": "3.10.0"
  }
 },
 "nbformat": 4,
 "nbformat_minor": 2
}
